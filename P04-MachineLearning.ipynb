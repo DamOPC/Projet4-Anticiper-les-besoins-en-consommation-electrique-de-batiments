{
 "cells": [
  {
   "cell_type": "markdown",
   "id": "ff612692",
   "metadata": {},
   "source": [
    "## Machine Learning"
   ]
  },
  {
   "cell_type": "code",
   "execution_count": 1,
   "id": "1c55b6f4",
   "metadata": {},
   "outputs": [
    {
     "name": "stderr",
     "output_type": "stream",
     "text": [
      "D:\\Users\\Damien\\anaconda3\\lib\\site-packages\\outdated\\utils.py:14: OutdatedPackageWarning: The package pingouin is out of date. Your version is 0.4.0, the latest is 0.5.0.\n",
      "Set the environment variable OUTDATED_IGNORE=1 to disable these warnings.\n",
      "  return warn(\n"
     ]
    },
    {
     "data": {
      "text/html": [
       "<style>.container { width:100% !important; }</style>"
      ],
      "text/plain": [
       "<IPython.core.display.HTML object>"
      ]
     },
     "metadata": {},
     "output_type": "display_data"
    }
   ],
   "source": [
    "import pandas as pd\n",
    "import seaborn as sns\n",
    "import matplotlib.pyplot as plt\n",
    "import numpy as np\n",
    "import pingouin as pg\n",
    "from scipy.stats import randint\n",
    "from sklearn import linear_model\n",
    "from sklearn.decomposition import PCA\n",
    "from sklearn.dummy import DummyRegressor\n",
    "from sklearn.preprocessing import PolynomialFeatures, StandardScaler\n",
    "from sklearn.linear_model import LinearRegression, SGDRegressor, Ridge, Lasso\n",
    "from sklearn.ensemble import RandomForestRegressor\n",
    "from sklearn.model_selection import train_test_split, GridSearchCV\n",
    "from sklearn.pipeline import make_pipeline\n",
    "from sklearn.metrics import *\n",
    "import math\n",
    "\n",
    "from IPython.core.display import display, HTML\n",
    "display(HTML(\"<style>.container { width:100% !important; }</style>\"))"
   ]
  },
  {
   "cell_type": "code",
   "execution_count": 2,
   "id": "635a4b40",
   "metadata": {},
   "outputs": [],
   "source": [
    "data_cleaned = pd.read_csv(r\"C:\\Users\\Damien\\Desktop\\Data Scientist\\P4\\Dataset\\seattle_dataset.csv\")"
   ]
  },
  {
   "cell_type": "code",
   "execution_count": 3,
   "id": "8e9d86d9",
   "metadata": {},
   "outputs": [
    {
     "data": {
      "text/html": [
       "<div>\n",
       "<style scoped>\n",
       "    .dataframe tbody tr th:only-of-type {\n",
       "        vertical-align: middle;\n",
       "    }\n",
       "\n",
       "    .dataframe tbody tr th {\n",
       "        vertical-align: top;\n",
       "    }\n",
       "\n",
       "    .dataframe thead th {\n",
       "        text-align: right;\n",
       "    }\n",
       "</style>\n",
       "<table border=\"1\" class=\"dataframe\">\n",
       "  <thead>\n",
       "    <tr style=\"text-align: right;\">\n",
       "      <th></th>\n",
       "      <th>Unnamed: 0</th>\n",
       "      <th>OSEBuildingID</th>\n",
       "      <th>DataYear</th>\n",
       "      <th>BuildingType</th>\n",
       "      <th>PrimaryPropertyType</th>\n",
       "      <th>Neighborhood</th>\n",
       "      <th>YearBuilt</th>\n",
       "      <th>NumberofBuildings</th>\n",
       "      <th>NumberofFloors</th>\n",
       "      <th>PropertyGFATotal</th>\n",
       "      <th>...</th>\n",
       "      <th>GHGEmissionsIntensity</th>\n",
       "      <th>Latitude</th>\n",
       "      <th>Longitude</th>\n",
       "      <th>SiteEnergyUse(kBtu)_log</th>\n",
       "      <th>TotalGHGEmissions_log</th>\n",
       "      <th>PropertyGFATotal_log</th>\n",
       "      <th>Energy_rate</th>\n",
       "      <th>GHG_rate</th>\n",
       "      <th>Age</th>\n",
       "      <th>Parking</th>\n",
       "    </tr>\n",
       "  </thead>\n",
       "  <tbody>\n",
       "    <tr>\n",
       "      <th>0</th>\n",
       "      <td>0</td>\n",
       "      <td>1</td>\n",
       "      <td>2016</td>\n",
       "      <td>NonResidential</td>\n",
       "      <td>Hotel</td>\n",
       "      <td>DOWNTOWN</td>\n",
       "      <td>1927</td>\n",
       "      <td>1.0</td>\n",
       "      <td>12.0</td>\n",
       "      <td>88434</td>\n",
       "      <td>...</td>\n",
       "      <td>2.83</td>\n",
       "      <td>47.61220</td>\n",
       "      <td>-122.33799</td>\n",
       "      <td>15.793246</td>\n",
       "      <td>5.521381</td>\n",
       "      <td>11.390012</td>\n",
       "      <td>1.386587</td>\n",
       "      <td>0.484756</td>\n",
       "      <td>89</td>\n",
       "      <td>0</td>\n",
       "    </tr>\n",
       "    <tr>\n",
       "      <th>1</th>\n",
       "      <td>1</td>\n",
       "      <td>2</td>\n",
       "      <td>2016</td>\n",
       "      <td>NonResidential</td>\n",
       "      <td>Hotel</td>\n",
       "      <td>DOWNTOWN</td>\n",
       "      <td>1996</td>\n",
       "      <td>1.0</td>\n",
       "      <td>11.0</td>\n",
       "      <td>103566</td>\n",
       "      <td>...</td>\n",
       "      <td>2.86</td>\n",
       "      <td>47.61317</td>\n",
       "      <td>-122.33393</td>\n",
       "      <td>15.942305</td>\n",
       "      <td>5.689886</td>\n",
       "      <td>11.547964</td>\n",
       "      <td>1.380529</td>\n",
       "      <td>0.492718</td>\n",
       "      <td>20</td>\n",
       "      <td>1</td>\n",
       "    </tr>\n",
       "    <tr>\n",
       "      <th>2</th>\n",
       "      <td>2</td>\n",
       "      <td>3</td>\n",
       "      <td>2016</td>\n",
       "      <td>NonResidential</td>\n",
       "      <td>Hotel</td>\n",
       "      <td>DOWNTOWN</td>\n",
       "      <td>1969</td>\n",
       "      <td>1.0</td>\n",
       "      <td>41.0</td>\n",
       "      <td>956110</td>\n",
       "      <td>...</td>\n",
       "      <td>2.19</td>\n",
       "      <td>47.61393</td>\n",
       "      <td>-122.33810</td>\n",
       "      <td>18.100297</td>\n",
       "      <td>7.644575</td>\n",
       "      <td>13.770628</td>\n",
       "      <td>1.314413</td>\n",
       "      <td>0.555136</td>\n",
       "      <td>47</td>\n",
       "      <td>1</td>\n",
       "    </tr>\n",
       "    <tr>\n",
       "      <th>3</th>\n",
       "      <td>3</td>\n",
       "      <td>5</td>\n",
       "      <td>2016</td>\n",
       "      <td>NonResidential</td>\n",
       "      <td>Hotel</td>\n",
       "      <td>DOWNTOWN</td>\n",
       "      <td>1926</td>\n",
       "      <td>1.0</td>\n",
       "      <td>10.0</td>\n",
       "      <td>61320</td>\n",
       "      <td>...</td>\n",
       "      <td>4.67</td>\n",
       "      <td>47.61412</td>\n",
       "      <td>-122.33664</td>\n",
       "      <td>15.731636</td>\n",
       "      <td>5.657494</td>\n",
       "      <td>11.023861</td>\n",
       "      <td>1.427053</td>\n",
       "      <td>0.513204</td>\n",
       "      <td>90</td>\n",
       "      <td>0</td>\n",
       "    </tr>\n",
       "    <tr>\n",
       "      <th>4</th>\n",
       "      <td>4</td>\n",
       "      <td>8</td>\n",
       "      <td>2016</td>\n",
       "      <td>NonResidential</td>\n",
       "      <td>Hotel</td>\n",
       "      <td>DOWNTOWN</td>\n",
       "      <td>1980</td>\n",
       "      <td>1.0</td>\n",
       "      <td>18.0</td>\n",
       "      <td>175580</td>\n",
       "      <td>...</td>\n",
       "      <td>2.88</td>\n",
       "      <td>47.61375</td>\n",
       "      <td>-122.34047</td>\n",
       "      <td>16.466822</td>\n",
       "      <td>6.224578</td>\n",
       "      <td>12.075850</td>\n",
       "      <td>1.363616</td>\n",
       "      <td>0.515457</td>\n",
       "      <td>36</td>\n",
       "      <td>1</td>\n",
       "    </tr>\n",
       "  </tbody>\n",
       "</table>\n",
       "<p>5 rows × 37 columns</p>\n",
       "</div>"
      ],
      "text/plain": [
       "   Unnamed: 0  OSEBuildingID  DataYear    BuildingType PrimaryPropertyType  \\\n",
       "0           0              1      2016  NonResidential               Hotel   \n",
       "1           1              2      2016  NonResidential               Hotel   \n",
       "2           2              3      2016  NonResidential               Hotel   \n",
       "3           3              5      2016  NonResidential               Hotel   \n",
       "4           4              8      2016  NonResidential               Hotel   \n",
       "\n",
       "  Neighborhood  YearBuilt  NumberofBuildings  NumberofFloors  \\\n",
       "0     DOWNTOWN       1927                1.0            12.0   \n",
       "1     DOWNTOWN       1996                1.0            11.0   \n",
       "2     DOWNTOWN       1969                1.0            41.0   \n",
       "3     DOWNTOWN       1926                1.0            10.0   \n",
       "4     DOWNTOWN       1980                1.0            18.0   \n",
       "\n",
       "   PropertyGFATotal  ...  GHGEmissionsIntensity  Latitude  Longitude  \\\n",
       "0             88434  ...                   2.83  47.61220 -122.33799   \n",
       "1            103566  ...                   2.86  47.61317 -122.33393   \n",
       "2            956110  ...                   2.19  47.61393 -122.33810   \n",
       "3             61320  ...                   4.67  47.61412 -122.33664   \n",
       "4            175580  ...                   2.88  47.61375 -122.34047   \n",
       "\n",
       "  SiteEnergyUse(kBtu)_log  TotalGHGEmissions_log PropertyGFATotal_log  \\\n",
       "0               15.793246               5.521381            11.390012   \n",
       "1               15.942305               5.689886            11.547964   \n",
       "2               18.100297               7.644575            13.770628   \n",
       "3               15.731636               5.657494            11.023861   \n",
       "4               16.466822               6.224578            12.075850   \n",
       "\n",
       "   Energy_rate  GHG_rate  Age  Parking  \n",
       "0     1.386587  0.484756   89        0  \n",
       "1     1.380529  0.492718   20        1  \n",
       "2     1.314413  0.555136   47        1  \n",
       "3     1.427053  0.513204   90        0  \n",
       "4     1.363616  0.515457   36        1  \n",
       "\n",
       "[5 rows x 37 columns]"
      ]
     },
     "execution_count": 3,
     "metadata": {},
     "output_type": "execute_result"
    }
   ],
   "source": [
    "data_cleaned.head(5)"
   ]
  },
  {
   "cell_type": "code",
   "execution_count": 4,
   "id": "35de3be0",
   "metadata": {},
   "outputs": [
    {
     "data": {
      "text/plain": [
       "<AxesSubplot:>"
      ]
     },
     "execution_count": 4,
     "metadata": {},
     "output_type": "execute_result"
    },
    {
     "data": {
      "image/png": "[encoded data removed]",
      "text/plain": [
       "<Figure size 1080x576 with 1 Axes>"
      ]
     },
     "metadata": {
      "needs_background": "light"
     },
     "output_type": "display_data"
    }
   ],
   "source": [
    "plt.figure(figsize=(15,8))\n",
    "sns.heatmap(data_cleaned.isna(), cbar=False)"
   ]
  },
  {
   "cell_type": "markdown",
   "id": "7af28d21",
   "metadata": {},
   "source": [
    "### PCA"
   ]
  },
  {
   "cell_type": "code",
   "execution_count": 5,
   "id": "fe514f97",
   "metadata": {},
   "outputs": [],
   "source": [
    "pca_df = data_cleaned.reset_index()\n",
    "\n",
    "n_comp = 2\n",
    "scaler = StandardScaler()\n",
    "pca = PCA(n_components=n_comp)\n",
    "\n",
    "data = pca_df[['PropertyGFATotal', 'SteamUse(kBtu)', 'Electricity(kBtu)', 'NaturalGas(kBtu)', 'Age', 'Parking']]\n",
    "\n",
    "X = data.values\n",
    "features = data.columns\n",
    "X_scaled = scaler.fit_transform(X)\n",
    "pca_components = pca.fit_transform(X_scaled)\n",
    "pcs = pca.components_"
   ]
  },
  {
   "cell_type": "code",
   "execution_count": 6,
   "id": "0fe417c9",
   "metadata": {},
   "outputs": [],
   "source": [
    "def display_circles(pcs, n_comp, pca, axis_ranks, labels=None, label_rotation=0, lims=None):\n",
    "    for d1, d2 in axis_ranks: # On affiche les 3 premiers plans factoriels, donc les 6 premières composantes\n",
    "        if d2 < n_comp:\n",
    "\n",
    "            # initialisation de la figure\n",
    "            fig, ax = plt.subplots(figsize=(10,10))\n",
    "\n",
    "            # détermination des limites du graphique\n",
    "            if lims is not None :\n",
    "                xmin, xmax, ymin, ymax = lims\n",
    "            elif pcs.shape[1] < 30 :\n",
    "                xmin, xmax, ymin, ymax = -1, 1, -1, 1\n",
    "            else :\n",
    "                xmin, xmax, ymin, ymax = min(pcs[d1,:]), max(pcs[d1,:]), min(pcs[d2,:]), max(pcs[d2,:])\n",
    "\n",
    "            # affichage des flèches\n",
    "            # s'il y a plus de 30 flèches, on n'affiche pas le triangle à leur extrémité\n",
    "            if pcs.shape[1] < 30 :\n",
    "                plt.quiver(np.zeros(pcs.shape[1]), np.zeros(pcs.shape[1]),\n",
    "                   pcs[d1,:], pcs[d2,:], \n",
    "                   angles='xy', scale_units='xy', scale=1, color=\"grey\")\n",
    "                # (voir la doc : https://matplotlib.org/api/_as_gen/matplotlib.pyplot.quiver.html)\n",
    "            else:\n",
    "                lines = [[[0,0],[x,y]] for x,y in pcs[[d1,d2]].T]\n",
    "                ax.add_collection(LineCollection(lines, axes=ax, alpha=.1, color='black'))\n",
    "            \n",
    "            # affichage des noms des variables  \n",
    "            if labels is not None:  \n",
    "                for i,(x, y) in enumerate(pcs[[d1,d2]].T):\n",
    "                    if x >= xmin and x <= xmax and y >= ymin and y <= ymax :\n",
    "                      plt.text(x, y, labels[i], fontsize='14', ha='center', va='center', rotation=label_rotation, color=\"blue\", alpha=0.5)\n",
    "            \n",
    "            # affichage du cercle\n",
    "            an = np.linspace(0, 2 * np.pi, 100)  # Add a unit circle for scale\n",
    "            plt.plot(np.cos(an), np.sin(an))\n",
    "            plt.axis('equal')\n",
    "\n",
    "            # définition des limites du graphique\n",
    "            plt.xlim(xmin, xmax)\n",
    "            plt.ylim(ymin, ymax)\n",
    "        \n",
    "            # affichage des lignes horizontales et verticales\n",
    "            plt.plot([-1, 1], [0, 0], color='grey', ls='--')\n",
    "            plt.plot([0, 0], [-1, 1], color='grey', ls='--')\n",
    "\n",
    "            # nom des axes, avec le pourcentage d'inertie expliqué\n",
    "            plt.xlabel('F{} ({}%)'.format(d1+1, round(100*pca.explained_variance_ratio_[d1],1)))\n",
    "            plt.ylabel('F{} ({}%)'.format(d2+1, round(100*pca.explained_variance_ratio_[d2],1)))\n",
    "\n",
    "            plt.title(\"Cercle des corrélations (F{} et F{})\".format(d1+1, d2+1))\n",
    "            plt.show(block=False)"
   ]
  },
  {
   "cell_type": "code",
   "execution_count": 7,
   "id": "9f60d354",
   "metadata": {},
   "outputs": [
    {
     "data": {
      "image/png": "[encoded data removed]",
      "text/plain": [
       "<Figure size 720x720 with 1 Axes>"
      ]
     },
     "metadata": {
      "needs_background": "light"
     },
     "output_type": "display_data"
    }
   ],
   "source": [
    "display_circles(pcs, n_comp, pca, [(0,1)], labels = np.array(features))"
   ]
  },
  {
   "cell_type": "markdown",
   "id": "2d0aa038",
   "metadata": {},
   "source": [
    "F1 (37.5%) : Electricité et Superficie   F2 (19.9%) : Age, Parking et Steam => 57.4% de variance expliquée"
   ]
  },
  {
   "cell_type": "markdown",
   "id": "a43da72f",
   "metadata": {},
   "source": [
    "### Prediction de la consommation d'energie"
   ]
  },
  {
   "cell_type": "markdown",
   "id": "3bd9eba5",
   "metadata": {},
   "source": [
    "#### Dummy Regressor"
   ]
  },
  {
   "cell_type": "code",
   "execution_count": 8,
   "id": "aa72af40",
   "metadata": {},
   "outputs": [],
   "source": [
    "# Premier test avec boolean parking, steam, elec gaz, gfa_log age et target=energy_log\n",
    "X = data_cleaned.loc[:, ['PropertyGFATotal_log', 'SteamUse(kBtu)', 'Electricity(kBtu)', 'NaturalGas(kBtu)', 'Age', 'Parking']]\n",
    "y = data_cleaned.loc[:, ['SiteEnergyUse(kBtu)_log']]\n",
    "\n",
    "X_train, X_test, y_train, y_test = train_test_split(X,y, test_size=0.2)"
   ]
  },
  {
   "cell_type": "code",
   "execution_count": 9,
   "id": "9a7bf9d6",
   "metadata": {},
   "outputs": [
    {
     "data": {
      "text/plain": [
       "-0.037309262559868994"
      ]
     },
     "execution_count": 9,
     "metadata": {},
     "output_type": "execute_result"
    }
   ],
   "source": [
    "from sklearn.dummy import DummyRegressor\n",
    "\n",
    "# Estimator\n",
    "model_dummy = DummyRegressor(strategy=\"median\")\n",
    "model_dummy.fit(X_train, y_train)\n",
    "model_dummy.score(X_test, y_test)"
   ]
  },
  {
   "cell_type": "code",
   "execution_count": 10,
   "id": "c2609b71",
   "metadata": {},
   "outputs": [],
   "source": [
    "# Creation d'une fonction de prédiction de la consommation en fonction du model\n",
    "def conso(model, GFA=60000, Steam=10000000, Elec=2000000, Gas=4000000, Age=25, Pkg=0):\n",
    "    X = np.array([GFA, Steam, Elec, Gas, Age, Pkg]).reshape(1,6)\n",
    "    print(model.predict(X))"
   ]
  },
  {
   "cell_type": "code",
   "execution_count": 11,
   "id": "f9feaecb",
   "metadata": {},
   "outputs": [
    {
     "name": "stdout",
     "output_type": "stream",
     "text": [
      "[14.41065081]\n"
     ]
    }
   ],
   "source": [
    "conso(model_dummy)"
   ]
  },
  {
   "cell_type": "markdown",
   "id": "e3ecf04c",
   "metadata": {},
   "source": [
    "#### Linear Regressor"
   ]
  },
  {
   "cell_type": "code",
   "execution_count": 12,
   "id": "f7b53ca9",
   "metadata": {},
   "outputs": [
    {
     "data": {
      "text/plain": [
       "0.5803015338038907"
      ]
     },
     "execution_count": 12,
     "metadata": {},
     "output_type": "execute_result"
    }
   ],
   "source": [
    "from sklearn.linear_model import LinearRegression\n",
    "\n",
    "# Estimator\n",
    "model_LR = LinearRegression()\n",
    "model_LR.fit(X_train, y_train)\n",
    "model_LR.score(X_test, y_test)"
   ]
  },
  {
   "cell_type": "code",
   "execution_count": 13,
   "id": "6a79faeb",
   "metadata": {},
   "outputs": [
    {
     "name": "stdout",
     "output_type": "stream",
     "text": [
      "[[50419.65743158]]\n"
     ]
    }
   ],
   "source": [
    "conso(model_LR)"
   ]
  },
  {
   "cell_type": "markdown",
   "id": "ee8cbd06",
   "metadata": {},
   "source": [
    "#### SGDRegressor avec Transfomer"
   ]
  },
  {
   "cell_type": "code",
   "execution_count": 14,
   "id": "d01a9384",
   "metadata": {
    "scrolled": true
   },
   "outputs": [
    {
     "data": {
      "text/plain": [
       "0.6887392515542003"
      ]
     },
     "execution_count": 14,
     "metadata": {},
     "output_type": "execute_result"
    }
   ],
   "source": [
    "# Transformer\n",
    "scaler = StandardScaler()\n",
    "X_train_transformed = scaler.fit_transform(X_train)\n",
    "X_test_transformed = scaler.fit_transform(X_test)\n",
    "\n",
    "# Estimator\n",
    "model_SGDR = SGDRegressor()\n",
    "model_SGDR.fit(X_train_transformed, y_train.values.ravel())\n",
    "\n",
    "# Test\n",
    "model_SGDR.score(X_test_transformed, y_test)"
   ]
  },
  {
   "cell_type": "markdown",
   "id": "b56cbb27",
   "metadata": {},
   "source": [
    "#### Avec des Pipelines"
   ]
  },
  {
   "cell_type": "code",
   "execution_count": 15,
   "id": "b009844c",
   "metadata": {},
   "outputs": [
    {
     "data": {
      "text/plain": [
       "0.6613926197641342"
      ]
     },
     "execution_count": 15,
     "metadata": {},
     "output_type": "execute_result"
    }
   ],
   "source": [
    "# Standard Scaler et Regression\n",
    "model_SGDR_SS = make_pipeline(StandardScaler(),\n",
    "                        SGDRegressor())\n",
    "\n",
    "model_SGDR_SS.fit(X_train, y_train.values.ravel())\n",
    "model_SGDR_SS.score(X_test, y_test)"
   ]
  },
  {
   "cell_type": "code",
   "execution_count": 16,
   "id": "8763661c",
   "metadata": {},
   "outputs": [
    {
     "data": {
      "text/plain": [
       "-3.5573490729644613e+80"
      ]
     },
     "execution_count": 16,
     "metadata": {},
     "output_type": "execute_result"
    }
   ],
   "source": [
    "# PolynomialFeatures et Regression\n",
    "model_SGDR_PF = make_pipeline(PolynomialFeatures(),\n",
    "                        SGDRegressor())\n",
    "\n",
    "model_SGDR_PF.fit(X_train, y_train.values.ravel())\n",
    "model_SGDR_PF.score(X_test, y_test)"
   ]
  },
  {
   "cell_type": "markdown",
   "id": "057c4b57",
   "metadata": {},
   "source": [
    "#### On ajoute GridSearchCV pour evaluer les meilleurs Transformer/Estimator"
   ]
  },
  {
   "cell_type": "code",
   "execution_count": 17,
   "id": "9e027daf",
   "metadata": {},
   "outputs": [
    {
     "data": {
      "text/plain": [
       "GridSearchCV(estimator=Pipeline(steps=[('polynomialfeatures',\n",
       "                                        PolynomialFeatures()),\n",
       "                                       ('standardscaler', StandardScaler()),\n",
       "                                       ('sgdregressor', SGDRegressor())]),\n",
       "             param_grid={'polynomialfeatures__degree': [1, 2, 3, 4],\n",
       "                         'sgdregressor__penalty': ['l1', 'l2']})"
      ]
     },
     "execution_count": 17,
     "metadata": {},
     "output_type": "execute_result"
    }
   ],
   "source": [
    "# PolynomialFeatures et Regression\n",
    "model_GS_CV1 = make_pipeline(PolynomialFeatures(),\n",
    "                         StandardScaler(),\n",
    "                         SGDRegressor())\n",
    "\n",
    "params = {\n",
    "    'polynomialfeatures__degree' : [1, 2, 3, 4],\n",
    "    'sgdregressor__penalty' : ['l1', 'l2']\n",
    "}\n",
    "\n",
    "grid = GridSearchCV(model_GS_CV1, param_grid=params)\n",
    "\n",
    "grid.fit(X_train, y_train.values.ravel())"
   ]
  },
  {
   "cell_type": "code",
   "execution_count": 18,
   "id": "2bb90640",
   "metadata": {},
   "outputs": [
    {
     "data": {
      "text/plain": [
       "{'polynomialfeatures__degree': 1, 'sgdregressor__penalty': 'l2'}"
      ]
     },
     "execution_count": 18,
     "metadata": {},
     "output_type": "execute_result"
    }
   ],
   "source": [
    "grid.best_params_"
   ]
  },
  {
   "cell_type": "code",
   "execution_count": 19,
   "id": "3ef189f9",
   "metadata": {},
   "outputs": [
    {
     "data": {
      "text/plain": [
       "0.6071920909121719"
      ]
     },
     "execution_count": 19,
     "metadata": {},
     "output_type": "execute_result"
    }
   ],
   "source": [
    "grid.score(X_test, y_test)"
   ]
  },
  {
   "cell_type": "markdown",
   "id": "623e6cef",
   "metadata": {},
   "source": [
    "#### Random Forest"
   ]
  },
  {
   "cell_type": "code",
   "execution_count": 20,
   "id": "e662c5ac",
   "metadata": {
    "scrolled": true
   },
   "outputs": [
    {
     "data": {
      "text/plain": [
       "GridSearchCV(estimator=RandomForestRegressor(),\n",
       "             param_grid={'max_features': ['auto', 'sqrt'],\n",
       "                         'min_samples_leaf': [1, 3, 5, 10],\n",
       "                         'n_estimators': [5, 10, 20, 50, 100]})"
      ]
     },
     "execution_count": 20,
     "metadata": {},
     "output_type": "execute_result"
    }
   ],
   "source": [
    "# Transformer\n",
    "scaler = StandardScaler()\n",
    "X_train_transformed = scaler.fit_transform(X_train)\n",
    "X_test_transformed = scaler.fit_transform(X_test)\n",
    "\n",
    "# Estimator\n",
    "Random_Forest = RandomForestRegressor()              \n",
    "\n",
    "params = {\n",
    "    'n_estimators' : [5,10,20,50,100],\n",
    "    'min_samples_leaf' : [1,3,5,10], \n",
    "    'max_features': ['auto', 'sqrt']\n",
    "}\n",
    "\n",
    "\n",
    "gridRF = GridSearchCV(Random_Forest, param_grid=params)\n",
    "gridRF.fit(X_train_transformed, y_train.values.ravel())"
   ]
  },
  {
   "cell_type": "code",
   "execution_count": 21,
   "id": "35bc2a9c",
   "metadata": {},
   "outputs": [
    {
     "data": {
      "text/plain": [
       "{'max_features': 'auto', 'min_samples_leaf': 1, 'n_estimators': 50}"
      ]
     },
     "execution_count": 21,
     "metadata": {},
     "output_type": "execute_result"
    }
   ],
   "source": [
    "gridRF.best_params_"
   ]
  },
  {
   "cell_type": "code",
   "execution_count": 22,
   "id": "f88d4b37",
   "metadata": {},
   "outputs": [
    {
     "data": {
      "text/plain": [
       "RandomForestRegressor()"
      ]
     },
     "execution_count": 22,
     "metadata": {},
     "output_type": "execute_result"
    }
   ],
   "source": [
    "# Estimator best\n",
    "Random_Forest_best = RandomForestRegressor(n_estimators=100, min_samples_leaf=1, max_features='auto')\n",
    "Random_Forest_best.fit(X_train_transformed, y_train.values.ravel())"
   ]
  },
  {
   "cell_type": "code",
   "execution_count": 23,
   "id": "73e3db45",
   "metadata": {},
   "outputs": [
    {
     "data": {
      "text/plain": [
       "0.6366340686776739"
      ]
     },
     "execution_count": 23,
     "metadata": {},
     "output_type": "execute_result"
    }
   ],
   "source": [
    "# Test\n",
    "Random_Forest_best.score(X_test_transformed, y_test.values.ravel())"
   ]
  },
  {
   "cell_type": "markdown",
   "id": "fece606b",
   "metadata": {},
   "source": [
    "#### RMSE AMSE, r², neg_rlmse"
   ]
  },
  {
   "cell_type": "code",
   "execution_count": 24,
   "id": "e1a2ea94",
   "metadata": {},
   "outputs": [
    {
     "name": "stdout",
     "output_type": "stream",
     "text": [
      "9.53107655689437\n",
      "91.37297045719183\n"
     ]
    }
   ],
   "source": [
    "#AMSE\n",
    "print(mean_absolute_error(y_test, model_LR.predict(X_test_transformed)))\n",
    "\n",
    "#RMSE\n",
    "print(mean_squared_error(y_test, model_LR.predict(X_test_transformed)))"
   ]
  },
  {
   "cell_type": "code",
   "execution_count": 25,
   "id": "55bc76b8",
   "metadata": {},
   "outputs": [],
   "source": [
    "# Création d'une fonction d'évaluation de performance des modèles\n",
    "def modeles_metrics(y_test, y_pred):\n",
    "    mae = mean_absolute_error(y_test, y_pred)\n",
    "    mse = mean_squared_error(y_test, y_pred)\n",
    "    rmse = np.sqrt(mse)\n",
    "    mape = mean_absolute_percentage_error(y_test, y_pred)\n",
    "    r_score = r2_score(y_test, y_pred)\n",
    "    print(\"MAE: \",mae.round(5))\n",
    "    print(\"MSE: \", mse.round(5))\n",
    "    print(\"RMSE: \", rmse)\n",
    "    print(\"MAPE: \", mape.round(5))\n",
    "    print(\"R²: \", r_score.round(5))"
   ]
  },
  {
   "cell_type": "code",
   "execution_count": 26,
   "id": "69656660",
   "metadata": {},
   "outputs": [
    {
     "name": "stdout",
     "output_type": "stream",
     "text": [
      "MAE:  0.4992\n",
      "MSE:  0.45709\n",
      "RMSE:  0.6760844084395934\n",
      "MAPE:  0.03401\n",
      "R²:  0.68874\n"
     ]
    }
   ],
   "source": [
    "modeles_metrics(y_test, model_SGDR.predict(X_test_transformed))"
   ]
  },
  {
   "cell_type": "markdown",
   "id": "fae1a88f",
   "metadata": {},
   "source": [
    "#### On regroupe les performance des modèles dans un DataFrame"
   ]
  },
  {
   "cell_type": "code",
   "execution_count": 27,
   "id": "028a586b",
   "metadata": {},
   "outputs": [],
   "source": [
    "import time\n",
    "model_ridge = Ridge()\n",
    "model_lasso = Lasso()"
   ]
  },
  {
   "cell_type": "code",
   "execution_count": 28,
   "id": "4624d421",
   "metadata": {},
   "outputs": [
    {
     "data": {
      "text/html": [
       "<div>\n",
       "<style scoped>\n",
       "    .dataframe tbody tr th:only-of-type {\n",
       "        vertical-align: middle;\n",
       "    }\n",
       "\n",
       "    .dataframe tbody tr th {\n",
       "        vertical-align: top;\n",
       "    }\n",
       "\n",
       "    .dataframe thead th {\n",
       "        text-align: right;\n",
       "    }\n",
       "</style>\n",
       "<table border=\"1\" class=\"dataframe\">\n",
       "  <thead>\n",
       "    <tr style=\"text-align: right;\">\n",
       "      <th></th>\n",
       "      <th>MAE</th>\n",
       "      <th>MSE</th>\n",
       "      <th>RMSE</th>\n",
       "      <th>MAPE</th>\n",
       "      <th>R²</th>\n",
       "      <th>DUREE</th>\n",
       "    </tr>\n",
       "  </thead>\n",
       "  <tbody>\n",
       "    <tr>\n",
       "      <th>Dummy Regressor</th>\n",
       "      <td>0.929080</td>\n",
       "      <td>1.523301</td>\n",
       "      <td>0.061709</td>\n",
       "      <td>1.234221</td>\n",
       "      <td>-0.037309</td>\n",
       "      <td>0.000000</td>\n",
       "    </tr>\n",
       "    <tr>\n",
       "      <th>Linear Regression</th>\n",
       "      <td>0.504014</td>\n",
       "      <td>0.459631</td>\n",
       "      <td>0.034352</td>\n",
       "      <td>0.677961</td>\n",
       "      <td>0.687009</td>\n",
       "      <td>0.000974</td>\n",
       "    </tr>\n",
       "    <tr>\n",
       "      <th>SGDRegressor</th>\n",
       "      <td>0.503803</td>\n",
       "      <td>0.462677</td>\n",
       "      <td>0.034319</td>\n",
       "      <td>0.680203</td>\n",
       "      <td>0.684935</td>\n",
       "      <td>0.003001</td>\n",
       "    </tr>\n",
       "    <tr>\n",
       "      <th>Ridge</th>\n",
       "      <td>0.504085</td>\n",
       "      <td>0.459694</td>\n",
       "      <td>0.034357</td>\n",
       "      <td>0.678007</td>\n",
       "      <td>0.686966</td>\n",
       "      <td>0.000000</td>\n",
       "    </tr>\n",
       "    <tr>\n",
       "      <th>Lasso</th>\n",
       "      <td>0.935554</td>\n",
       "      <td>1.474449</td>\n",
       "      <td>0.062829</td>\n",
       "      <td>1.214269</td>\n",
       "      <td>-0.004043</td>\n",
       "      <td>0.000000</td>\n",
       "    </tr>\n",
       "    <tr>\n",
       "      <th>RandomForestRegressor</th>\n",
       "      <td>0.587079</td>\n",
       "      <td>0.534242</td>\n",
       "      <td>0.041721</td>\n",
       "      <td>0.730918</td>\n",
       "      <td>0.636202</td>\n",
       "      <td>0.524051</td>\n",
       "    </tr>\n",
       "  </tbody>\n",
       "</table>\n",
       "</div>"
      ],
      "text/plain": [
       "                            MAE       MSE      RMSE      MAPE        R²  \\\n",
       "Dummy Regressor        0.929080  1.523301  0.061709  1.234221 -0.037309   \n",
       "Linear Regression      0.504014  0.459631  0.034352  0.677961  0.687009   \n",
       "SGDRegressor           0.503803  0.462677  0.034319  0.680203  0.684935   \n",
       "Ridge                  0.504085  0.459694  0.034357  0.678007  0.686966   \n",
       "Lasso                  0.935554  1.474449  0.062829  1.214269 -0.004043   \n",
       "RandomForestRegressor  0.587079  0.534242  0.041721  0.730918  0.636202   \n",
       "\n",
       "                          DUREE  \n",
       "Dummy Regressor        0.000000  \n",
       "Linear Regression      0.000974  \n",
       "SGDRegressor           0.003001  \n",
       "Ridge                  0.000000  \n",
       "Lasso                  0.000000  \n",
       "RandomForestRegressor  0.524051  "
      ]
     },
     "execution_count": 28,
     "metadata": {},
     "output_type": "execute_result"
    }
   ],
   "source": [
    "model = [model_dummy, model_LR, model_SGDR, model_ridge, model_lasso, Random_Forest_best]\n",
    "dict_model = {}\n",
    "\n",
    "for model in model:\n",
    "    start = time.time()\n",
    "    model.fit(X_train_transformed, y_train.values.ravel())\n",
    "    end = time.time()\n",
    "    y_pred = model.predict(X_test_transformed)\n",
    "    mae = mean_absolute_error(y_test, y_pred)\n",
    "    mse = mean_squared_error(y_test, y_pred)\n",
    "    rmse = np.sqrt(mse)\n",
    "    mape = mean_absolute_percentage_error(y_test, y_pred)\n",
    "    r_score = r2_score(y_test, y_pred)\n",
    "    duree = end-start\n",
    "    dict_model[model] = (mae, mse, mape, rmse, r_score, duree)\n",
    "\n",
    "df_eval_model = pd.DataFrame(dict_model, index=['MAE', 'MSE', 'RMSE', 'MAPE', 'R²', 'DUREE'])\n",
    "df_eval_model.columns = ['Dummy Regressor', 'Linear Regression', 'SGDRegressor', 'Ridge', 'Lasso', 'RandomForestRegressor']\n",
    "\n",
    "df_eval_model.transpose()"
   ]
  },
  {
   "cell_type": "code",
   "execution_count": 29,
   "id": "8a5ea8d1",
   "metadata": {},
   "outputs": [
    {
     "data": {
      "text/plain": [
       "<function matplotlib.pyplot.show(close=None, block=None)>"
      ]
     },
     "execution_count": 29,
     "metadata": {},
     "output_type": "execute_result"
    },
    {
     "data": {
      "image/png": "[encoded data removed]",
      "text/plain": [
       "<Figure size 1080x576 with 1 Axes>"
      ]
     },
     "metadata": {
      "needs_background": "light"
     },
     "output_type": "display_data"
    }
   ],
   "source": [
    "# histogramme des erreus RF\n",
    "plt.figure(figsize=(15,8))\n",
    "err_hist = np.abs(y - Random_Forest_best.predict(scaler.fit_transform(X)).reshape(3344,1))\n",
    "plt.hist(err_hist, bins=40)\n",
    "plt.show"
   ]
  },
  {
   "cell_type": "code",
   "execution_count": 30,
   "id": "8ae079d3",
   "metadata": {},
   "outputs": [
    {
     "data": {
      "text/plain": [
       "<function matplotlib.pyplot.show(close=None, block=None)>"
      ]
     },
     "execution_count": 30,
     "metadata": {},
     "output_type": "execute_result"
    },
    {
     "data": {
      "image/png": "[encoded data removed]",
      "text/plain": [
       "<Figure size 1080x576 with 1 Axes>"
      ]
     },
     "metadata": {
      "needs_background": "light"
     },
     "output_type": "display_data"
    }
   ],
   "source": [
    "# histogramme des erreus LR\n",
    "plt.figure(figsize=(15,8))\n",
    "err_hist = np.abs(y - model_LR.predict(scaler.fit_transform(X)).reshape(3344,1))\n",
    "plt.hist(err_hist, bins=40)\n",
    "plt.show"
   ]
  },
  {
   "cell_type": "code",
   "execution_count": 31,
   "id": "3ce908c6",
   "metadata": {},
   "outputs": [
    {
     "data": {
      "text/plain": [
       "array([-0.07267454, -0.03483487, -0.03227409])"
      ]
     },
     "execution_count": 31,
     "metadata": {},
     "output_type": "execute_result"
    }
   ],
   "source": [
    "from sklearn.model_selection import cross_val_score\n",
    "\n",
    "cross_val_score(Random_Forest_best, scaler.fit_transform(X), y.values.ravel(), cv=3, scoring='neg_mean_absolute_error')"
   ]
  },
  {
   "cell_type": "code",
   "execution_count": 32,
   "id": "4605f4fc",
   "metadata": {},
   "outputs": [
    {
     "data": {
      "text/plain": [
       "array([-0.53743229, -0.47280356, -0.44992129])"
      ]
     },
     "execution_count": 32,
     "metadata": {},
     "output_type": "execute_result"
    }
   ],
   "source": [
    "cross_val_score(model_LR, scaler.fit_transform(X), y.values.ravel(), cv=3, scoring='neg_mean_absolute_error')"
   ]
  },
  {
   "cell_type": "markdown",
   "id": "2eebefb8",
   "metadata": {},
   "source": [
    "**Le modèle ensembliste RandomForest semble meilleur. Les modèles linéaires (Linear regression, SGDRegression, Ridge) reste acceptables. Essayons avec plus de features**"
   ]
  },
  {
   "cell_type": "markdown",
   "id": "de98cbb9",
   "metadata": {},
   "source": [
    "#### Modeles avec encodage des variables qualitatives et plus de features"
   ]
  },
  {
   "cell_type": "code",
   "execution_count": 33,
   "id": "78b60cd2",
   "metadata": {},
   "outputs": [],
   "source": [
    "from sklearn.preprocessing import OneHotEncoder, OrdinalEncoder \n",
    "from sklearn.compose import make_column_transformer"
   ]
  },
  {
   "cell_type": "code",
   "execution_count": 34,
   "id": "0a90592e",
   "metadata": {},
   "outputs": [],
   "source": [
    "y2 = data_cleaned['SiteEnergyUse(kBtu)_log']\n",
    "X2 = data_cleaned.loc[:, ['PropertyGFATotal_log', 'BuildingType', 'PrimaryPropertyType', 'SteamUse(kBtu)', 'Electricity(kBtu)', 'NaturalGas(kBtu)', 'Age', 'Parking', 'NumberofFloors', 'NumberofBuildings']]\n",
    "\n",
    "X_train2, X_test2, y_train2, y_test2 = train_test_split(X2, y2, test_size=0.2)"
   ]
  },
  {
   "cell_type": "code",
   "execution_count": 35,
   "id": "518f58af",
   "metadata": {},
   "outputs": [],
   "source": [
    "numerical_features = ['PropertyGFATotal_log', 'SteamUse(kBtu)', 'Electricity(kBtu)', 'NaturalGas(kBtu)', 'Age', 'Parking', 'NumberofFloors', 'NumberofBuildings']\n",
    "categorical_features = ['BuildingType', 'PrimaryPropertyType']"
   ]
  },
  {
   "cell_type": "code",
   "execution_count": 36,
   "id": "3f65063d",
   "metadata": {},
   "outputs": [],
   "source": [
    "numerical_pipeline = make_pipeline(StandardScaler())\n",
    "categorical_pipeline = make_pipeline(OrdinalEncoder())"
   ]
  },
  {
   "cell_type": "code",
   "execution_count": 37,
   "id": "52a2ff02",
   "metadata": {},
   "outputs": [],
   "source": [
    "preprocessor = make_column_transformer((numerical_pipeline, numerical_features),\n",
    "                       (categorical_pipeline, categorical_features))"
   ]
  },
  {
   "cell_type": "code",
   "execution_count": 38,
   "id": "e7190dc6",
   "metadata": {},
   "outputs": [],
   "source": [
    "X_train2_transformed = preprocessor.fit_transform(X_train2)\n",
    "X_test2_transformed = preprocessor.fit_transform(X_test2)"
   ]
  },
  {
   "cell_type": "code",
   "execution_count": 39,
   "id": "4618bea5",
   "metadata": {},
   "outputs": [
    {
     "data": {
      "text/plain": [
       "LinearRegression()"
      ]
     },
     "execution_count": 39,
     "metadata": {},
     "output_type": "execute_result"
    }
   ],
   "source": [
    "model_LR.fit(X_train2_transformed, y_train2)"
   ]
  },
  {
   "cell_type": "code",
   "execution_count": 40,
   "id": "71046e48",
   "metadata": {},
   "outputs": [
    {
     "data": {
      "text/plain": [
       "0.6984713135761904"
      ]
     },
     "execution_count": 40,
     "metadata": {},
     "output_type": "execute_result"
    }
   ],
   "source": [
    "model_LR.score(X_test2_transformed, y_test2)"
   ]
  },
  {
   "cell_type": "code",
   "execution_count": 41,
   "id": "fbefd3c0",
   "metadata": {},
   "outputs": [
    {
     "data": {
      "text/html": [
       "<div>\n",
       "<style scoped>\n",
       "    .dataframe tbody tr th:only-of-type {\n",
       "        vertical-align: middle;\n",
       "    }\n",
       "\n",
       "    .dataframe tbody tr th {\n",
       "        vertical-align: top;\n",
       "    }\n",
       "\n",
       "    .dataframe thead th {\n",
       "        text-align: right;\n",
       "    }\n",
       "</style>\n",
       "<table border=\"1\" class=\"dataframe\">\n",
       "  <thead>\n",
       "    <tr style=\"text-align: right;\">\n",
       "      <th></th>\n",
       "      <th>MAE</th>\n",
       "      <th>MSE</th>\n",
       "      <th>RMSE</th>\n",
       "      <th>MAPE</th>\n",
       "      <th>R²</th>\n",
       "      <th>DUREE</th>\n",
       "    </tr>\n",
       "  </thead>\n",
       "  <tbody>\n",
       "    <tr>\n",
       "      <th>Dummy Regressor</th>\n",
       "      <td>0.922637</td>\n",
       "      <td>1.422429</td>\n",
       "      <td>0.062303</td>\n",
       "      <td>1.192656</td>\n",
       "      <td>-0.012081</td>\n",
       "      <td>0.000000</td>\n",
       "    </tr>\n",
       "    <tr>\n",
       "      <th>Linear Regression</th>\n",
       "      <td>0.485491</td>\n",
       "      <td>0.423784</td>\n",
       "      <td>0.033749</td>\n",
       "      <td>0.650987</td>\n",
       "      <td>0.698471</td>\n",
       "      <td>0.000998</td>\n",
       "    </tr>\n",
       "    <tr>\n",
       "      <th>SGDRegressor</th>\n",
       "      <td>0.521802</td>\n",
       "      <td>0.498409</td>\n",
       "      <td>0.036708</td>\n",
       "      <td>0.705981</td>\n",
       "      <td>0.645374</td>\n",
       "      <td>0.006007</td>\n",
       "    </tr>\n",
       "    <tr>\n",
       "      <th>Ridge</th>\n",
       "      <td>0.485498</td>\n",
       "      <td>0.423777</td>\n",
       "      <td>0.033750</td>\n",
       "      <td>0.650982</td>\n",
       "      <td>0.698476</td>\n",
       "      <td>0.001020</td>\n",
       "    </tr>\n",
       "    <tr>\n",
       "      <th>Lasso</th>\n",
       "      <td>0.939433</td>\n",
       "      <td>1.407197</td>\n",
       "      <td>0.064209</td>\n",
       "      <td>1.186254</td>\n",
       "      <td>-0.001243</td>\n",
       "      <td>0.000997</td>\n",
       "    </tr>\n",
       "    <tr>\n",
       "      <th>RandomForestRegressor</th>\n",
       "      <td>0.479355</td>\n",
       "      <td>0.376653</td>\n",
       "      <td>0.034608</td>\n",
       "      <td>0.613720</td>\n",
       "      <td>0.732006</td>\n",
       "      <td>0.673229</td>\n",
       "    </tr>\n",
       "  </tbody>\n",
       "</table>\n",
       "</div>"
      ],
      "text/plain": [
       "                            MAE       MSE      RMSE      MAPE        R²  \\\n",
       "Dummy Regressor        0.922637  1.422429  0.062303  1.192656 -0.012081   \n",
       "Linear Regression      0.485491  0.423784  0.033749  0.650987  0.698471   \n",
       "SGDRegressor           0.521802  0.498409  0.036708  0.705981  0.645374   \n",
       "Ridge                  0.485498  0.423777  0.033750  0.650982  0.698476   \n",
       "Lasso                  0.939433  1.407197  0.064209  1.186254 -0.001243   \n",
       "RandomForestRegressor  0.479355  0.376653  0.034608  0.613720  0.732006   \n",
       "\n",
       "                          DUREE  \n",
       "Dummy Regressor        0.000000  \n",
       "Linear Regression      0.000998  \n",
       "SGDRegressor           0.006007  \n",
       "Ridge                  0.001020  \n",
       "Lasso                  0.000997  \n",
       "RandomForestRegressor  0.673229  "
      ]
     },
     "execution_count": 41,
     "metadata": {},
     "output_type": "execute_result"
    }
   ],
   "source": [
    "model = [model_dummy, model_LR, model_SGDR, model_ridge, model_lasso, Random_Forest_best]\n",
    "dict_model = {}\n",
    "\n",
    "for model in model:\n",
    "    start = time.time()\n",
    "    model.fit(X_train2_transformed, y_train2.values.ravel())\n",
    "    end = time.time()\n",
    "    y_pred2 = model.predict(X_test2_transformed)\n",
    "    mae = mean_absolute_error(y_test2, y_pred2)\n",
    "    mse = mean_squared_error(y_test2, y_pred2)\n",
    "    rmse = np.sqrt(mse)\n",
    "    mape = mean_absolute_percentage_error(y_test2, y_pred2)\n",
    "    r_score = r2_score(y_test2, y_pred2)\n",
    "    duree = end-start\n",
    "    dict_model[model] = (mae, mse, mape, rmse, r_score, duree)\n",
    "\n",
    "df_eval_model = pd.DataFrame(dict_model, index=['MAE', 'MSE', 'RMSE', 'MAPE', 'R²', 'DUREE'])\n",
    "df_eval_model.columns = ['Dummy Regressor', 'Linear Regression', 'SGDRegressor', 'Ridge', 'Lasso', 'RandomForestRegressor']\n",
    "\n",
    "df_eval_model.transpose()"
   ]
  },
  {
   "cell_type": "markdown",
   "id": "d83bf950",
   "metadata": {},
   "source": [
    "L'ajout des variables qualitatives et de features supplémentaires améliore grandement les modèles linéaires de regression, mais perturbe le random forest."
   ]
  },
  {
   "cell_type": "markdown",
   "id": "5f0f7cc2",
   "metadata": {},
   "source": [
    "#### Modeles sans encodage des variables qualitatives et plus de features"
   ]
  },
  {
   "cell_type": "code",
   "execution_count": 42,
   "id": "a16b672f",
   "metadata": {},
   "outputs": [],
   "source": [
    "y3 = data_cleaned['SiteEnergyUse(kBtu)_log']\n",
    "X3 = data_cleaned.loc[:, ['PropertyGFATotal_log', 'SteamUse(kBtu)', 'Electricity(kBtu)', 'NaturalGas(kBtu)', 'Age', 'Parking', 'NumberofFloors', 'NumberofBuildings']]\n",
    "\n",
    "X_train3, X_test3, y_train3, y_test3 = train_test_split(X3, y3, test_size=0.2)"
   ]
  },
  {
   "cell_type": "code",
   "execution_count": 43,
   "id": "a6252b54",
   "metadata": {},
   "outputs": [],
   "source": [
    "X_train3_transformed = scaler.fit_transform(X_train3)\n",
    "X_test3_transformed = scaler.fit_transform(X_test3)"
   ]
  },
  {
   "cell_type": "code",
   "execution_count": 44,
   "id": "cfd3ff41",
   "metadata": {},
   "outputs": [
    {
     "data": {
      "text/html": [
       "<div>\n",
       "<style scoped>\n",
       "    .dataframe tbody tr th:only-of-type {\n",
       "        vertical-align: middle;\n",
       "    }\n",
       "\n",
       "    .dataframe tbody tr th {\n",
       "        vertical-align: top;\n",
       "    }\n",
       "\n",
       "    .dataframe thead th {\n",
       "        text-align: right;\n",
       "    }\n",
       "</style>\n",
       "<table border=\"1\" class=\"dataframe\">\n",
       "  <thead>\n",
       "    <tr style=\"text-align: right;\">\n",
       "      <th></th>\n",
       "      <th>MAE</th>\n",
       "      <th>MSE</th>\n",
       "      <th>RMSE</th>\n",
       "      <th>MAPE</th>\n",
       "      <th>R²</th>\n",
       "      <th>DUREE</th>\n",
       "    </tr>\n",
       "  </thead>\n",
       "  <tbody>\n",
       "    <tr>\n",
       "      <th>Dummy Regressor</th>\n",
       "      <td>0.911331</td>\n",
       "      <td>1.437027</td>\n",
       "      <td>0.061870</td>\n",
       "      <td>1.198761</td>\n",
       "      <td>-0.005370</td>\n",
       "      <td>0.000000</td>\n",
       "    </tr>\n",
       "    <tr>\n",
       "      <th>Linear Regression</th>\n",
       "      <td>0.485928</td>\n",
       "      <td>0.459839</td>\n",
       "      <td>0.034166</td>\n",
       "      <td>0.678114</td>\n",
       "      <td>0.678289</td>\n",
       "      <td>0.001026</td>\n",
       "    </tr>\n",
       "    <tr>\n",
       "      <th>SGDRegressor</th>\n",
       "      <td>0.484251</td>\n",
       "      <td>0.455936</td>\n",
       "      <td>0.034053</td>\n",
       "      <td>0.675230</td>\n",
       "      <td>0.681019</td>\n",
       "      <td>0.003994</td>\n",
       "    </tr>\n",
       "    <tr>\n",
       "      <th>Ridge</th>\n",
       "      <td>0.485977</td>\n",
       "      <td>0.459866</td>\n",
       "      <td>0.034169</td>\n",
       "      <td>0.678134</td>\n",
       "      <td>0.678270</td>\n",
       "      <td>0.000997</td>\n",
       "    </tr>\n",
       "    <tr>\n",
       "      <th>Lasso</th>\n",
       "      <td>0.936088</td>\n",
       "      <td>1.434208</td>\n",
       "      <td>0.064256</td>\n",
       "      <td>1.197584</td>\n",
       "      <td>-0.003397</td>\n",
       "      <td>0.000998</td>\n",
       "    </tr>\n",
       "    <tr>\n",
       "      <th>RandomForestRegressor</th>\n",
       "      <td>0.464240</td>\n",
       "      <td>0.388014</td>\n",
       "      <td>0.033927</td>\n",
       "      <td>0.622907</td>\n",
       "      <td>0.728539</td>\n",
       "      <td>0.604383</td>\n",
       "    </tr>\n",
       "  </tbody>\n",
       "</table>\n",
       "</div>"
      ],
      "text/plain": [
       "                            MAE       MSE      RMSE      MAPE        R²  \\\n",
       "Dummy Regressor        0.911331  1.437027  0.061870  1.198761 -0.005370   \n",
       "Linear Regression      0.485928  0.459839  0.034166  0.678114  0.678289   \n",
       "SGDRegressor           0.484251  0.455936  0.034053  0.675230  0.681019   \n",
       "Ridge                  0.485977  0.459866  0.034169  0.678134  0.678270   \n",
       "Lasso                  0.936088  1.434208  0.064256  1.197584 -0.003397   \n",
       "RandomForestRegressor  0.464240  0.388014  0.033927  0.622907  0.728539   \n",
       "\n",
       "                          DUREE  \n",
       "Dummy Regressor        0.000000  \n",
       "Linear Regression      0.001026  \n",
       "SGDRegressor           0.003994  \n",
       "Ridge                  0.000997  \n",
       "Lasso                  0.000998  \n",
       "RandomForestRegressor  0.604383  "
      ]
     },
     "execution_count": 44,
     "metadata": {},
     "output_type": "execute_result"
    }
   ],
   "source": [
    "model = [model_dummy, model_LR, model_SGDR, model_ridge, model_lasso, Random_Forest_best]\n",
    "dict_model = {}\n",
    "\n",
    "for model in model:\n",
    "    start = time.time()\n",
    "    model.fit(X_train3_transformed, y_train3.values.ravel())\n",
    "    end = time.time()\n",
    "    y_pred3 = model.predict(X_test3_transformed)\n",
    "    mae = mean_absolute_error(y_test3, y_pred3)\n",
    "    mse = mean_squared_error(y_test3, y_pred3)\n",
    "    rmse = np.sqrt(mse)\n",
    "    mape = mean_absolute_percentage_error(y_test3, y_pred3)\n",
    "    r_score = r2_score(y_test3, y_pred3)\n",
    "    duree = end-start\n",
    "    dict_model[model] = (mae, mse, mape, rmse, r_score, duree)\n",
    "\n",
    "df_eval_model = pd.DataFrame(dict_model, index=['MAE', 'MSE', 'RMSE', 'MAPE', 'R²', 'DUREE'])\n",
    "df_eval_model.columns = ['Dummy Regressor', 'Linear Regression', 'SGDRegressor', 'Ridge', 'Lasso', 'RandomForestRegressor']\n",
    "\n",
    "df_eval_model.transpose()"
   ]
  },
  {
   "cell_type": "markdown",
   "id": "ffae4d78",
   "metadata": {},
   "source": [
    "#### SelectKBest"
   ]
  },
  {
   "cell_type": "code",
   "execution_count": 45,
   "id": "bf185edc",
   "metadata": {},
   "outputs": [],
   "source": [
    "from sklearn.feature_selection import SelectKBest, chi2, SelectFromModel"
   ]
  },
  {
   "cell_type": "code",
   "execution_count": 46,
   "id": "8c1d2b2a",
   "metadata": {},
   "outputs": [
    {
     "data": {
      "text/plain": [
       "(array([1.41929222e+02, 5.77292978e+10, 7.70772925e+10, 4.43163259e+10,\n",
       "        2.25406904e+03, 2.87217435e+02, 4.69847474e+03, 1.56257009e+02]),\n",
       " array([1.69526682e-25, 0.00000000e+00, 0.00000000e+00, 0.00000000e+00,\n",
       "        0.00000000e+00, 7.80223103e-56, 0.00000000e+00, 1.91763220e-28]))"
      ]
     },
     "execution_count": 46,
     "metadata": {},
     "output_type": "execute_result"
    }
   ],
   "source": [
    "y=y.astype('int')\n",
    "chi2(X3, y)"
   ]
  },
  {
   "cell_type": "code",
   "execution_count": 47,
   "id": "c82264b9",
   "metadata": {},
   "outputs": [
    {
     "data": {
      "text/plain": [
       "array([False,  True,  True,  True, False, False, False, False])"
      ]
     },
     "execution_count": 47,
     "metadata": {},
     "output_type": "execute_result"
    }
   ],
   "source": [
    "selector = SelectKBest(chi2, k=3)\n",
    "selector.fit_transform(X3, y)\n",
    "selector.get_support()"
   ]
  },
  {
   "cell_type": "code",
   "execution_count": 48,
   "id": "b7a3c315",
   "metadata": {},
   "outputs": [
    {
     "data": {
      "text/plain": [
       "array([ True, False, False, False, False, False, False, False])"
      ]
     },
     "execution_count": 48,
     "metadata": {},
     "output_type": "execute_result"
    }
   ],
   "source": [
    "#X2 : 'PropertyGFATotal_log', 'BuildingType', 'PrimaryPropertyType', 'SteamUse(kBtu)', 'Electricity(kBtu)', 'NaturalGas(kBtu)', 'Age', 'Parking', 'NumberofFloors', 'NumberofBuildings'\n",
    "selector2 = SelectFromModel(model_LR)\n",
    "selector2.fit_transform(X3, y.values.ravel())\n",
    "selector2.get_support()"
   ]
  },
  {
   "cell_type": "code",
   "execution_count": 49,
   "id": "520bdaf0",
   "metadata": {},
   "outputs": [
    {
     "data": {
      "text/plain": [
       "array([ 8.99913349e-01, -3.45757557e-09,  2.53198286e-08,  1.34735815e-08,\n",
       "        2.46374635e-03,  1.26655096e-01, -7.24893794e-03,  1.69389021e-02])"
      ]
     },
     "execution_count": 49,
     "metadata": {},
     "output_type": "execute_result"
    }
   ],
   "source": [
    "selector2.estimator_.coef_"
   ]
  },
  {
   "cell_type": "code",
   "execution_count": 50,
   "id": "ece60d77",
   "metadata": {},
   "outputs": [
    {
     "data": {
      "text/plain": [
       "array([1.28415292e-03, 6.05759775e-03, 8.34474098e-01, 1.56845477e-01,\n",
       "       1.01374812e-03, 3.24926524e-04])"
      ]
     },
     "execution_count": 50,
     "metadata": {},
     "output_type": "execute_result"
    }
   ],
   "source": [
    "# Pour le RandomForest\n",
    "gridRF.best_estimator_.feature_importances_"
   ]
  },
  {
   "cell_type": "markdown",
   "id": "0e1c7349",
   "metadata": {},
   "source": [
    "#### Leanring Curve"
   ]
  },
  {
   "cell_type": "code",
   "execution_count": 51,
   "id": "d6885420",
   "metadata": {},
   "outputs": [],
   "source": [
    "from sklearn.model_selection import learning_curve"
   ]
  },
  {
   "cell_type": "code",
   "execution_count": 52,
   "id": "1e07bec4",
   "metadata": {},
   "outputs": [],
   "source": [
    "X2 = preprocessor.fit_transform(X2)\n",
    "X_train2 = preprocessor.fit_transform(X_train2)"
   ]
  },
  {
   "cell_type": "code",
   "execution_count": 53,
   "id": "6af7218b",
   "metadata": {},
   "outputs": [
    {
     "name": "stdout",
     "output_type": "stream",
     "text": [
      "[ 642  672  703  733  764  794  825  855  886  917  947  978 1008 1039\n",
      " 1070 1100 1131 1161 1192 1222 1253 1284 1314 1345 1375 1406 1436 1467\n",
      " 1498 1528 1559 1589 1620 1650 1681 1712 1742 1773 1803 1834 1864 1895\n",
      " 1925 1956 1987 2017 2048 2078 2109 2140]\n"
     ]
    },
    {
     "data": {
      "image/png": "[encoded data removed]",
      "text/plain": [
       "<Figure size 432x288 with 1 Axes>"
      ]
     },
     "metadata": {
      "needs_background": "light"
     },
     "output_type": "display_data"
    }
   ],
   "source": [
    "N, train_score, val_score = learning_curve(model_LR, X_train2_transformed, y_train2, train_sizes = np.linspace(0.3, 1, 50), cv=5)\n",
    "\n",
    "print(N)\n",
    "plt.plot(train_score.mean(axis=1), label='train')\n",
    "plt.plot(val_score.mean(axis=1), label='validation')\n",
    "plt.xlabel('trainsize')\n",
    "plt.show()"
   ]
  },
  {
   "cell_type": "code",
   "execution_count": 54,
   "id": "afc035bc",
   "metadata": {},
   "outputs": [
    {
     "name": "stdout",
     "output_type": "stream",
     "text": [
      "[ 428  462  497  532  567  602  637  672  707  742  777  812  847  882\n",
      "  917  952  987 1021 1056 1091 1126 1161 1196 1231 1266 1301 1336 1371\n",
      " 1406 1441 1476 1511 1546 1580 1615 1650 1685 1720 1755 1790 1825 1860\n",
      " 1895 1930 1965 2000 2035 2070 2105 2140]\n"
     ]
    },
    {
     "data": {
      "image/png": "[encoded data removed]",
      "text/plain": [
       "<Figure size 432x288 with 1 Axes>"
      ]
     },
     "metadata": {
      "needs_background": "light"
     },
     "output_type": "display_data"
    }
   ],
   "source": [
    "N, train_score, val_score = learning_curve(Random_Forest, X_train2_transformed, y_train2.values.ravel(), train_sizes = np.linspace(0.2, 1, 50), cv=5)\n",
    "\n",
    "print(N)\n",
    "plt.plot(train_score.mean(axis=1), label='train')\n",
    "plt.plot(val_score.mean(axis=1), label='validation')\n",
    "plt.xlabel('trainsize')\n",
    "plt.show()"
   ]
  },
  {
   "cell_type": "markdown",
   "id": "40769a1f",
   "metadata": {},
   "source": [
    "### Prediction des emissions de CO2 avec et sans Energy Star Score"
   ]
  },
  {
   "cell_type": "markdown",
   "id": "f0e33511",
   "metadata": {},
   "source": [
    "#### Sans Energy star score avec encodage des variables qualitatives + features additionelles"
   ]
  },
  {
   "cell_type": "code",
   "execution_count": 55,
   "id": "e0a5d890",
   "metadata": {},
   "outputs": [],
   "source": [
    "data_cleaned_starS = data_cleaned.dropna(subset=['ENERGYSTARScore'])"
   ]
  },
  {
   "cell_type": "code",
   "execution_count": 56,
   "id": "cdcee26f",
   "metadata": {},
   "outputs": [],
   "source": [
    "y4 = data_cleaned_starS.loc[:, ['TotalGHGEmissions_log']]\n",
    "X4 = data_cleaned_starS.loc[:, ['PropertyGFATotal_log', 'BuildingType', 'PrimaryPropertyType', 'SteamUse(kBtu)', 'Electricity(kBtu)', 'NaturalGas(kBtu)', 'Age', 'Parking', 'NumberofFloors', 'NumberofBuildings']]\n",
    "\n",
    "X_train4, X_test4, y_train4, y_test4 = train_test_split(X4,y4, test_size=0.2)"
   ]
  },
  {
   "cell_type": "code",
   "execution_count": 57,
   "id": "1986b771",
   "metadata": {},
   "outputs": [],
   "source": [
    "X_train4_transformed = preprocessor.fit_transform(X_train4)\n",
    "X_test4_transformed = preprocessor.fit_transform(X_test4)"
   ]
  },
  {
   "cell_type": "code",
   "execution_count": 58,
   "id": "79a87ea0",
   "metadata": {},
   "outputs": [
    {
     "data": {
      "text/html": [
       "<div>\n",
       "<style scoped>\n",
       "    .dataframe tbody tr th:only-of-type {\n",
       "        vertical-align: middle;\n",
       "    }\n",
       "\n",
       "    .dataframe tbody tr th {\n",
       "        vertical-align: top;\n",
       "    }\n",
       "\n",
       "    .dataframe thead th {\n",
       "        text-align: right;\n",
       "    }\n",
       "</style>\n",
       "<table border=\"1\" class=\"dataframe\">\n",
       "  <thead>\n",
       "    <tr style=\"text-align: right;\">\n",
       "      <th></th>\n",
       "      <th>MAE</th>\n",
       "      <th>MSE</th>\n",
       "      <th>RMSE</th>\n",
       "      <th>MAPE</th>\n",
       "      <th>R²</th>\n",
       "      <th>DUREE</th>\n",
       "    </tr>\n",
       "  </thead>\n",
       "  <tbody>\n",
       "    <tr>\n",
       "      <th>Dummy Regressor</th>\n",
       "      <td>1.211348</td>\n",
       "      <td>2.038023</td>\n",
       "      <td>0.527627</td>\n",
       "      <td>1.427594</td>\n",
       "      <td>-0.001696</td>\n",
       "      <td>0.000997</td>\n",
       "    </tr>\n",
       "    <tr>\n",
       "      <th>Linear Regression</th>\n",
       "      <td>0.832136</td>\n",
       "      <td>0.981200</td>\n",
       "      <td>0.349957</td>\n",
       "      <td>0.990555</td>\n",
       "      <td>0.517737</td>\n",
       "      <td>0.000969</td>\n",
       "    </tr>\n",
       "    <tr>\n",
       "      <th>SGDRegressor</th>\n",
       "      <td>0.857802</td>\n",
       "      <td>1.089124</td>\n",
       "      <td>0.387967</td>\n",
       "      <td>1.043611</td>\n",
       "      <td>0.464691</td>\n",
       "      <td>0.003019</td>\n",
       "    </tr>\n",
       "    <tr>\n",
       "      <th>Ridge</th>\n",
       "      <td>0.832193</td>\n",
       "      <td>0.981171</td>\n",
       "      <td>0.350015</td>\n",
       "      <td>0.990541</td>\n",
       "      <td>0.517751</td>\n",
       "      <td>0.000000</td>\n",
       "    </tr>\n",
       "    <tr>\n",
       "      <th>Lasso</th>\n",
       "      <td>1.211132</td>\n",
       "      <td>2.036605</td>\n",
       "      <td>0.525499</td>\n",
       "      <td>1.427097</td>\n",
       "      <td>-0.000999</td>\n",
       "      <td>0.000998</td>\n",
       "    </tr>\n",
       "    <tr>\n",
       "      <th>RandomForestRegressor</th>\n",
       "      <td>1.251628</td>\n",
       "      <td>2.894572</td>\n",
       "      <td>0.539428</td>\n",
       "      <td>1.701344</td>\n",
       "      <td>-0.422693</td>\n",
       "      <td>0.506084</td>\n",
       "    </tr>\n",
       "  </tbody>\n",
       "</table>\n",
       "</div>"
      ],
      "text/plain": [
       "                            MAE       MSE      RMSE      MAPE        R²  \\\n",
       "Dummy Regressor        1.211348  2.038023  0.527627  1.427594 -0.001696   \n",
       "Linear Regression      0.832136  0.981200  0.349957  0.990555  0.517737   \n",
       "SGDRegressor           0.857802  1.089124  0.387967  1.043611  0.464691   \n",
       "Ridge                  0.832193  0.981171  0.350015  0.990541  0.517751   \n",
       "Lasso                  1.211132  2.036605  0.525499  1.427097 -0.000999   \n",
       "RandomForestRegressor  1.251628  2.894572  0.539428  1.701344 -0.422693   \n",
       "\n",
       "                          DUREE  \n",
       "Dummy Regressor        0.000997  \n",
       "Linear Regression      0.000969  \n",
       "SGDRegressor           0.003019  \n",
       "Ridge                  0.000000  \n",
       "Lasso                  0.000998  \n",
       "RandomForestRegressor  0.506084  "
      ]
     },
     "execution_count": 58,
     "metadata": {},
     "output_type": "execute_result"
    }
   ],
   "source": [
    "model = [model_dummy, model_LR, model_SGDR, model_ridge, model_lasso, Random_Forest_best]\n",
    "dict_model = {}\n",
    "\n",
    "for model in model:\n",
    "    start = time.time()\n",
    "    model.fit(X_train4_transformed, y_train4.values.ravel())\n",
    "    end = time.time()\n",
    "    y_pred4 = model.predict(X_test4_transformed)\n",
    "    mae = mean_absolute_error(y_test4, y_pred4)\n",
    "    mse = mean_squared_error(y_test4, y_pred4)\n",
    "    rmse = np.sqrt(mse)\n",
    "    mape = mean_absolute_percentage_error(y_test4, y_pred4)\n",
    "    r_score = r2_score(y_test4, y_pred4)\n",
    "    duree = end-start\n",
    "    dict_model[model] = (mae, mse, mape, rmse, r_score, duree)\n",
    "\n",
    "df_eval_model = pd.DataFrame(dict_model, index=['MAE', 'MSE', 'RMSE', 'MAPE', 'R²', 'DUREE'])\n",
    "df_eval_model.columns = ['Dummy Regressor', 'Linear Regression', 'SGDRegressor', 'Ridge', 'Lasso', 'RandomForestRegressor']\n",
    "\n",
    "df_eval_model.transpose()"
   ]
  },
  {
   "cell_type": "markdown",
   "id": "ca921538",
   "metadata": {},
   "source": [
    "#### Sans Energy star score avec features additionelles"
   ]
  },
  {
   "cell_type": "code",
   "execution_count": 59,
   "id": "1f3ad9a9",
   "metadata": {},
   "outputs": [],
   "source": [
    "y5 = data_cleaned_starS['TotalGHGEmissions_log']\n",
    "X5 = data_cleaned_starS.loc[:, ['PropertyGFATotal_log', 'SteamUse(kBtu)', 'Electricity(kBtu)', 'NaturalGas(kBtu)', 'Age', 'Parking', 'NumberofFloors', 'NumberofBuildings']]\n",
    "\n",
    "X_train5, X_test5, y_train5, y_test5 = train_test_split(X5, y5, test_size=0.2)"
   ]
  },
  {
   "cell_type": "code",
   "execution_count": 60,
   "id": "013f7b8f",
   "metadata": {},
   "outputs": [],
   "source": [
    "X_train5_transformed = scaler.fit_transform(X_train5)\n",
    "X_test5_transformed = scaler.fit_transform(X_test5)"
   ]
  },
  {
   "cell_type": "code",
   "execution_count": 61,
   "id": "49b3d05b",
   "metadata": {},
   "outputs": [
    {
     "data": {
      "text/html": [
       "<div>\n",
       "<style scoped>\n",
       "    .dataframe tbody tr th:only-of-type {\n",
       "        vertical-align: middle;\n",
       "    }\n",
       "\n",
       "    .dataframe tbody tr th {\n",
       "        vertical-align: top;\n",
       "    }\n",
       "\n",
       "    .dataframe thead th {\n",
       "        text-align: right;\n",
       "    }\n",
       "</style>\n",
       "<table border=\"1\" class=\"dataframe\">\n",
       "  <thead>\n",
       "    <tr style=\"text-align: right;\">\n",
       "      <th></th>\n",
       "      <th>MAE</th>\n",
       "      <th>MSE</th>\n",
       "      <th>RMSE</th>\n",
       "      <th>MAPE</th>\n",
       "      <th>R²</th>\n",
       "      <th>DUREE</th>\n",
       "    </tr>\n",
       "  </thead>\n",
       "  <tbody>\n",
       "    <tr>\n",
       "      <th>Dummy Regressor</th>\n",
       "      <td>1.164911</td>\n",
       "      <td>1.916797</td>\n",
       "      <td>0.453864</td>\n",
       "      <td>1.384484</td>\n",
       "      <td>-0.001384</td>\n",
       "      <td>0.000000</td>\n",
       "    </tr>\n",
       "    <tr>\n",
       "      <th>Linear Regression</th>\n",
       "      <td>0.744629</td>\n",
       "      <td>0.754421</td>\n",
       "      <td>0.279480</td>\n",
       "      <td>0.868574</td>\n",
       "      <td>0.605871</td>\n",
       "      <td>0.000998</td>\n",
       "    </tr>\n",
       "    <tr>\n",
       "      <th>SGDRegressor</th>\n",
       "      <td>0.759188</td>\n",
       "      <td>0.789638</td>\n",
       "      <td>0.280811</td>\n",
       "      <td>0.888616</td>\n",
       "      <td>0.587473</td>\n",
       "      <td>0.001995</td>\n",
       "    </tr>\n",
       "    <tr>\n",
       "      <th>Ridge</th>\n",
       "      <td>0.744693</td>\n",
       "      <td>0.754457</td>\n",
       "      <td>0.279539</td>\n",
       "      <td>0.868595</td>\n",
       "      <td>0.605852</td>\n",
       "      <td>0.000000</td>\n",
       "    </tr>\n",
       "    <tr>\n",
       "      <th>Lasso</th>\n",
       "      <td>1.164862</td>\n",
       "      <td>1.915672</td>\n",
       "      <td>0.452233</td>\n",
       "      <td>1.384078</td>\n",
       "      <td>-0.000797</td>\n",
       "      <td>0.000000</td>\n",
       "    </tr>\n",
       "    <tr>\n",
       "      <th>RandomForestRegressor</th>\n",
       "      <td>1.268272</td>\n",
       "      <td>2.741208</td>\n",
       "      <td>0.493395</td>\n",
       "      <td>1.655659</td>\n",
       "      <td>-0.432078</td>\n",
       "      <td>0.452278</td>\n",
       "    </tr>\n",
       "  </tbody>\n",
       "</table>\n",
       "</div>"
      ],
      "text/plain": [
       "                            MAE       MSE      RMSE      MAPE        R²  \\\n",
       "Dummy Regressor        1.164911  1.916797  0.453864  1.384484 -0.001384   \n",
       "Linear Regression      0.744629  0.754421  0.279480  0.868574  0.605871   \n",
       "SGDRegressor           0.759188  0.789638  0.280811  0.888616  0.587473   \n",
       "Ridge                  0.744693  0.754457  0.279539  0.868595  0.605852   \n",
       "Lasso                  1.164862  1.915672  0.452233  1.384078 -0.000797   \n",
       "RandomForestRegressor  1.268272  2.741208  0.493395  1.655659 -0.432078   \n",
       "\n",
       "                          DUREE  \n",
       "Dummy Regressor        0.000000  \n",
       "Linear Regression      0.000998  \n",
       "SGDRegressor           0.001995  \n",
       "Ridge                  0.000000  \n",
       "Lasso                  0.000000  \n",
       "RandomForestRegressor  0.452278  "
      ]
     },
     "execution_count": 61,
     "metadata": {},
     "output_type": "execute_result"
    }
   ],
   "source": [
    "model = [model_dummy, model_LR, model_SGDR, model_ridge, model_lasso, Random_Forest_best]\n",
    "dict_model = {}\n",
    "\n",
    "for model in model:\n",
    "    start = time.time()\n",
    "    model.fit(X_train5_transformed, y_train5.values.ravel())\n",
    "    end = time.time()\n",
    "    y_pred5 = model.predict(X_test5_transformed)\n",
    "    mae = mean_absolute_error(y_test5, y_pred5)\n",
    "    mse = mean_squared_error(y_test5, y_pred5)\n",
    "    rmse = np.sqrt(mse)\n",
    "    mape = mean_absolute_percentage_error(y_test5, y_pred5)\n",
    "    r_score = r2_score(y_test5, y_pred5)\n",
    "    duree = end-start\n",
    "    dict_model[model] = (mae, mse, mape, rmse, r_score, duree)\n",
    "\n",
    "df_eval_model = pd.DataFrame(dict_model, index=['MAE', 'MSE', 'RMSE', 'MAPE', 'R²', 'DUREE'])\n",
    "df_eval_model.columns = ['Dummy Regressor', 'Linear Regression', 'SGDRegressor', 'Ridge', 'Lasso', 'RandomForestRegressor']\n",
    "\n",
    "df_eval_model.transpose()"
   ]
  },
  {
   "cell_type": "markdown",
   "id": "990b1cf6",
   "metadata": {},
   "source": [
    "#### Sans Energy star score"
   ]
  },
  {
   "cell_type": "code",
   "execution_count": 62,
   "id": "b1ce1d25",
   "metadata": {},
   "outputs": [],
   "source": [
    "y6 = data_cleaned_starS['TotalGHGEmissions_log']\n",
    "X6 = data_cleaned_starS.loc[:, ['PropertyGFATotal_log', 'SteamUse(kBtu)', 'Electricity(kBtu)', 'NaturalGas(kBtu)', 'Age', 'Parking']]\n",
    "\n",
    "X_train6, X_test6, y_train6, y_test6 = train_test_split(X6, y6, test_size=0.2)"
   ]
  },
  {
   "cell_type": "code",
   "execution_count": 63,
   "id": "755124b1",
   "metadata": {},
   "outputs": [],
   "source": [
    "X_train6_transformed = scaler.fit_transform(X_train6)\n",
    "X_test6_transformed = scaler.fit_transform(X_test6)"
   ]
  },
  {
   "cell_type": "code",
   "execution_count": 64,
   "id": "a4f186aa",
   "metadata": {},
   "outputs": [
    {
     "data": {
      "text/html": [
       "<div>\n",
       "<style scoped>\n",
       "    .dataframe tbody tr th:only-of-type {\n",
       "        vertical-align: middle;\n",
       "    }\n",
       "\n",
       "    .dataframe tbody tr th {\n",
       "        vertical-align: top;\n",
       "    }\n",
       "\n",
       "    .dataframe thead th {\n",
       "        text-align: right;\n",
       "    }\n",
       "</style>\n",
       "<table border=\"1\" class=\"dataframe\">\n",
       "  <thead>\n",
       "    <tr style=\"text-align: right;\">\n",
       "      <th></th>\n",
       "      <th>MAE</th>\n",
       "      <th>MSE</th>\n",
       "      <th>RMSE</th>\n",
       "      <th>MAPE</th>\n",
       "      <th>R²</th>\n",
       "      <th>DUREE</th>\n",
       "    </tr>\n",
       "  </thead>\n",
       "  <tbody>\n",
       "    <tr>\n",
       "      <th>Dummy Regressor</th>\n",
       "      <td>1.197276</td>\n",
       "      <td>2.097080</td>\n",
       "      <td>0.622846</td>\n",
       "      <td>1.448130</td>\n",
       "      <td>-0.000791</td>\n",
       "      <td>0.000000</td>\n",
       "    </tr>\n",
       "    <tr>\n",
       "      <th>Linear Regression</th>\n",
       "      <td>0.801562</td>\n",
       "      <td>0.902413</td>\n",
       "      <td>0.411882</td>\n",
       "      <td>0.949954</td>\n",
       "      <td>0.569341</td>\n",
       "      <td>0.000000</td>\n",
       "    </tr>\n",
       "    <tr>\n",
       "      <th>SGDRegressor</th>\n",
       "      <td>0.859235</td>\n",
       "      <td>1.032060</td>\n",
       "      <td>0.437118</td>\n",
       "      <td>1.015904</td>\n",
       "      <td>0.507469</td>\n",
       "      <td>0.001970</td>\n",
       "    </tr>\n",
       "    <tr>\n",
       "      <th>Ridge</th>\n",
       "      <td>0.801559</td>\n",
       "      <td>0.902295</td>\n",
       "      <td>0.411943</td>\n",
       "      <td>0.949892</td>\n",
       "      <td>0.569397</td>\n",
       "      <td>0.000000</td>\n",
       "    </tr>\n",
       "    <tr>\n",
       "      <th>Lasso</th>\n",
       "      <td>1.196925</td>\n",
       "      <td>2.095913</td>\n",
       "      <td>0.619477</td>\n",
       "      <td>1.447727</td>\n",
       "      <td>-0.000234</td>\n",
       "      <td>0.000000</td>\n",
       "    </tr>\n",
       "    <tr>\n",
       "      <th>RandomForestRegressor</th>\n",
       "      <td>1.350272</td>\n",
       "      <td>3.174001</td>\n",
       "      <td>0.563123</td>\n",
       "      <td>1.781573</td>\n",
       "      <td>-0.514731</td>\n",
       "      <td>0.399021</td>\n",
       "    </tr>\n",
       "  </tbody>\n",
       "</table>\n",
       "</div>"
      ],
      "text/plain": [
       "                            MAE       MSE      RMSE      MAPE        R²  \\\n",
       "Dummy Regressor        1.197276  2.097080  0.622846  1.448130 -0.000791   \n",
       "Linear Regression      0.801562  0.902413  0.411882  0.949954  0.569341   \n",
       "SGDRegressor           0.859235  1.032060  0.437118  1.015904  0.507469   \n",
       "Ridge                  0.801559  0.902295  0.411943  0.949892  0.569397   \n",
       "Lasso                  1.196925  2.095913  0.619477  1.447727 -0.000234   \n",
       "RandomForestRegressor  1.350272  3.174001  0.563123  1.781573 -0.514731   \n",
       "\n",
       "                          DUREE  \n",
       "Dummy Regressor        0.000000  \n",
       "Linear Regression      0.000000  \n",
       "SGDRegressor           0.001970  \n",
       "Ridge                  0.000000  \n",
       "Lasso                  0.000000  \n",
       "RandomForestRegressor  0.399021  "
      ]
     },
     "execution_count": 64,
     "metadata": {},
     "output_type": "execute_result"
    }
   ],
   "source": [
    "model = [model_dummy, model_LR, model_SGDR, model_ridge, model_lasso, Random_Forest_best]\n",
    "dict_model = {}\n",
    "\n",
    "for model in model:\n",
    "    start = time.time()\n",
    "    model.fit(X_train6_transformed, y_train6.values.ravel())\n",
    "    end = time.time()\n",
    "    y_pred6 = model.predict(X_test6_transformed)\n",
    "    mae = mean_absolute_error(y_test6, y_pred6)\n",
    "    mse = mean_squared_error(y_test6, y_pred6)\n",
    "    rmse = np.sqrt(mse)\n",
    "    mape = mean_absolute_percentage_error(y_test6, y_pred6)\n",
    "    r_score = r2_score(y_test6, y_pred6)\n",
    "    duree = end-start\n",
    "    dict_model[model] = (mae, mse, mape, rmse, r_score, duree)\n",
    "\n",
    "df_eval_model = pd.DataFrame(dict_model, index=['MAE', 'MSE', 'RMSE', 'MAPE', 'R²', 'DUREE'])\n",
    "df_eval_model.columns = ['Dummy Regressor', 'Linear Regression', 'SGDRegressor', 'Ridge', 'Lasso', 'RandomForestRegressor']\n",
    "\n",
    "df_eval_model.transpose()"
   ]
  },
  {
   "cell_type": "markdown",
   "id": "d66e567c",
   "metadata": {},
   "source": [
    "#### Avec Energy star score"
   ]
  },
  {
   "cell_type": "code",
   "execution_count": 65,
   "id": "6d4d1767",
   "metadata": {},
   "outputs": [],
   "source": [
    "y7 = data_cleaned_starS.loc[:, ['TotalGHGEmissions_log']]\n",
    "X7 = data_cleaned_starS.loc[:, ['PropertyGFATotal_log', 'BuildingType', 'PrimaryPropertyType', 'SteamUse(kBtu)', 'Electricity(kBtu)', 'NaturalGas(kBtu)', 'Age', 'Parking', 'NumberofFloors', 'NumberofBuildings', 'ENERGYSTARScore']]\n",
    "\n",
    "X_train7, X_test7, y_train7, y_test7 = train_test_split(X7, y7, test_size=0.2)"
   ]
  },
  {
   "cell_type": "code",
   "execution_count": 66,
   "id": "a33c1aee",
   "metadata": {},
   "outputs": [],
   "source": [
    "numerical_features2 = ['PropertyGFATotal_log', 'SteamUse(kBtu)', 'Electricity(kBtu)', 'NaturalGas(kBtu)', 'Age', 'Parking', 'NumberofFloors', 'NumberofBuildings', 'ENERGYSTARScore']\n",
    "categorical_features2 = ['BuildingType', 'PrimaryPropertyType']"
   ]
  },
  {
   "cell_type": "code",
   "execution_count": 67,
   "id": "ca7fbe32",
   "metadata": {},
   "outputs": [],
   "source": [
    "preprocessor2 = make_column_transformer((numerical_pipeline, numerical_features2),\n",
    "                       (categorical_pipeline, categorical_features2))"
   ]
  },
  {
   "cell_type": "code",
   "execution_count": 68,
   "id": "e64158ea",
   "metadata": {},
   "outputs": [],
   "source": [
    "X_train7_transformed = preprocessor2.fit_transform(X_train7)\n",
    "X_test7_transformed = preprocessor2.fit_transform(X_test7)"
   ]
  },
  {
   "cell_type": "code",
   "execution_count": 69,
   "id": "6acb0d3c",
   "metadata": {},
   "outputs": [
    {
     "data": {
      "text/html": [
       "<div>\n",
       "<style scoped>\n",
       "    .dataframe tbody tr th:only-of-type {\n",
       "        vertical-align: middle;\n",
       "    }\n",
       "\n",
       "    .dataframe tbody tr th {\n",
       "        vertical-align: top;\n",
       "    }\n",
       "\n",
       "    .dataframe thead th {\n",
       "        text-align: right;\n",
       "    }\n",
       "</style>\n",
       "<table border=\"1\" class=\"dataframe\">\n",
       "  <thead>\n",
       "    <tr style=\"text-align: right;\">\n",
       "      <th></th>\n",
       "      <th>MAE</th>\n",
       "      <th>MSE</th>\n",
       "      <th>RMSE</th>\n",
       "      <th>MAPE</th>\n",
       "      <th>R²</th>\n",
       "      <th>DUREE</th>\n",
       "    </tr>\n",
       "  </thead>\n",
       "  <tbody>\n",
       "    <tr>\n",
       "      <th>Dummy Regressor</th>\n",
       "      <td>1.207245</td>\n",
       "      <td>2.120865</td>\n",
       "      <td>0.553289</td>\n",
       "      <td>1.456319</td>\n",
       "      <td>-0.000626</td>\n",
       "      <td>0.000997</td>\n",
       "    </tr>\n",
       "    <tr>\n",
       "      <th>Linear Regression</th>\n",
       "      <td>0.806468</td>\n",
       "      <td>0.934907</td>\n",
       "      <td>0.362602</td>\n",
       "      <td>0.966906</td>\n",
       "      <td>0.558910</td>\n",
       "      <td>0.003989</td>\n",
       "    </tr>\n",
       "    <tr>\n",
       "      <th>SGDRegressor</th>\n",
       "      <td>0.819645</td>\n",
       "      <td>0.956730</td>\n",
       "      <td>0.384764</td>\n",
       "      <td>0.978126</td>\n",
       "      <td>0.548614</td>\n",
       "      <td>0.005983</td>\n",
       "    </tr>\n",
       "    <tr>\n",
       "      <th>Ridge</th>\n",
       "      <td>0.806495</td>\n",
       "      <td>0.934722</td>\n",
       "      <td>0.362663</td>\n",
       "      <td>0.966810</td>\n",
       "      <td>0.558997</td>\n",
       "      <td>0.000997</td>\n",
       "    </tr>\n",
       "    <tr>\n",
       "      <th>Lasso</th>\n",
       "      <td>1.207583</td>\n",
       "      <td>2.123481</td>\n",
       "      <td>0.549225</td>\n",
       "      <td>1.457217</td>\n",
       "      <td>-0.001861</td>\n",
       "      <td>0.000000</td>\n",
       "    </tr>\n",
       "    <tr>\n",
       "      <th>RandomForestRegressor</th>\n",
       "      <td>1.286032</td>\n",
       "      <td>2.937445</td>\n",
       "      <td>0.515766</td>\n",
       "      <td>1.713898</td>\n",
       "      <td>-0.385890</td>\n",
       "      <td>0.557044</td>\n",
       "    </tr>\n",
       "  </tbody>\n",
       "</table>\n",
       "</div>"
      ],
      "text/plain": [
       "                            MAE       MSE      RMSE      MAPE        R²  \\\n",
       "Dummy Regressor        1.207245  2.120865  0.553289  1.456319 -0.000626   \n",
       "Linear Regression      0.806468  0.934907  0.362602  0.966906  0.558910   \n",
       "SGDRegressor           0.819645  0.956730  0.384764  0.978126  0.548614   \n",
       "Ridge                  0.806495  0.934722  0.362663  0.966810  0.558997   \n",
       "Lasso                  1.207583  2.123481  0.549225  1.457217 -0.001861   \n",
       "RandomForestRegressor  1.286032  2.937445  0.515766  1.713898 -0.385890   \n",
       "\n",
       "                          DUREE  \n",
       "Dummy Regressor        0.000997  \n",
       "Linear Regression      0.003989  \n",
       "SGDRegressor           0.005983  \n",
       "Ridge                  0.000997  \n",
       "Lasso                  0.000000  \n",
       "RandomForestRegressor  0.557044  "
      ]
     },
     "execution_count": 69,
     "metadata": {},
     "output_type": "execute_result"
    }
   ],
   "source": [
    "model = [model_dummy, model_LR, model_SGDR, model_ridge, model_lasso, Random_Forest_best]\n",
    "dict_model = {}\n",
    "\n",
    "for model in model:\n",
    "    start = time.time()\n",
    "    model.fit(X_train7_transformed, y_train7.values.ravel())\n",
    "    end = time.time()\n",
    "    y_pred7 = model.predict(X_test7_transformed)\n",
    "    mae = mean_absolute_error(y_test7, y_pred7)\n",
    "    mse = mean_squared_error(y_test7, y_pred7)\n",
    "    rmse = np.sqrt(mse)\n",
    "    mape = mean_absolute_percentage_error(y_test7, y_pred7)\n",
    "    r_score = r2_score(y_test7, y_pred7)\n",
    "    duree = end-start\n",
    "    dict_model[model] = (mae, mse, mape, rmse, r_score, duree)\n",
    "\n",
    "df_eval_model = pd.DataFrame(dict_model, index=['MAE', 'MSE', 'RMSE', 'MAPE', 'R²', 'DUREE'])\n",
    "df_eval_model.columns = ['Dummy Regressor', 'Linear Regression', 'SGDRegressor', 'Ridge', 'Lasso', 'RandomForestRegressor']\n",
    "\n",
    "df_eval_model.transpose()"
   ]
  },
  {
   "cell_type": "markdown",
   "id": "c83c819e",
   "metadata": {},
   "source": [
    "**L'ajout de l'Energy Score semble diminuer la précision du model RandomForest**"
   ]
  }
 ],
 "metadata": {
  "kernelspec": {
   "display_name": "Python 3",
   "language": "python",
   "name": "python3"
  },
  "language_info": {
   "codemirror_mode": {
    "name": "ipython",
    "version": 3
   },
   "file_extension": ".py",
   "mimetype": "text/x-python",
   "name": "python",
   "nbconvert_exporter": "python",
   "pygments_lexer": "ipython3",
   "version": "3.8.8"
  }
 },
 "nbformat": 4,
 "nbformat_minor": 5
}
